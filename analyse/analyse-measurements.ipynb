{
 "cells": [
  {
   "cell_type": "code",
   "id": "initial_id",
   "metadata": {
    "collapsed": true,
    "ExecuteTime": {
     "end_time": "2025-01-12T21:38:38.632333Z",
     "start_time": "2025-01-12T21:38:38.627454Z"
    }
   },
   "source": "import pandas as pd",
   "outputs": [],
   "execution_count": 15
  },
  {
   "metadata": {
    "ExecuteTime": {
     "end_time": "2025-01-12T21:38:38.805421Z",
     "start_time": "2025-01-12T21:38:38.680569Z"
    }
   },
   "cell_type": "code",
   "source": "!ls -l /tmp/pump*",
   "id": "de761264bcb9c9de",
   "outputs": [
    {
     "name": "stdout",
     "output_type": "stream",
     "text": [
      "-rw-rw-r-- 1 leo leo    0 Jan 12 15:24 /tmp/pump-measure.X.S350.short.v2e.00.a01.broad.2025-01-12T15:24:40.453837.csv\r\n",
      "-rw-rw-r-- 1 leo leo 1532 Jan 12 15:34 /tmp/pump-measure.X.S350.short.v2e.00.a01.broad.2025-01-12T15:27:55.373178.csv\r\n",
      "-rw-rw-r-- 1 leo leo 1573 Jan 12 15:55 /tmp/pump-measure.X.S350.short.v2e.00.a01.broad.2025-01-12T15:40:24.147778.csv\r\n",
      "-rw-rw-r-- 1 leo leo    0 Jan 12 16:02 /tmp/pump-measure.X.S350.short.v2e.00.a01.broad.2025-01-12T16:02:03.356605.csv\r\n",
      "-rw-rw-r-- 1 leo leo 3352 Jan 12 17:51 /tmp/pump-measure.X.S350.short.v2e.00.a01.broad.2025-01-12T16:02:54.637768.csv\r\n"
     ]
    }
   ],
   "execution_count": 16
  },
  {
   "metadata": {
    "ExecuteTime": {
     "end_time": "2025-01-12T21:38:38.861222Z",
     "start_time": "2025-01-12T21:38:38.840880Z"
    }
   },
   "cell_type": "code",
   "source": [
    "# measurements = pd.read_csv(\"data/pump-measure.X.S350.short.v2e.00.a00.broad.2024-12-17T18:15:42.412964.csv\")\n",
    "# Successful run with A00\n",
    "# measurements = pd.read_csv(\"data/pump-measure.X.S350.short.v2e.00.a00.broad.2024-12-18T07:32:09.437732.csv\")\n",
    "measurements = pd.read_csv(\"data/pump-measure.X.S350.short.v2e.00.a01.broad.2025-01-12T15:40:24.147778.csv\")\n",
    "# A01: low speed is good, others are garbage. Something up with the test rig?\n",
    "# measurements = pd.read_csv(\"data/pump-measure.X.S350.short.v2e.00.a01.broad.2025-01-12T16:02:54.637768.csv\")\n",
    "\n",
    "measurements\n",
    "\n",
    "\n"
   ],
   "id": "e3b772830aabed1",
   "outputs": [
    {
     "data": {
      "text/plain": [
       "  pump  revs  rate                        time  T000_F_d  T000_F_n  T000_F_x  \\\n",
       "0    X    50   100  2025-01-12T15:54:35.585991      11.3   145.644   156.944   \n",
       "\n",
       "   T000_R_d  T000_R_n  T000_R_x  ...  T008_R_n  T008_R_x  T008_drift  \\\n",
       "0    32.556   113.088   145.644  ...   105.053   137.371      -1.004   \n",
       "\n",
       "   T009_F_d  T009_F_n  T009_F_x  T009_R_d  T009_R_n  T009_R_x  T009_drift  \n",
       "0    31.315   105.052   136.367    32.295   104.053   136.348      -0.999  \n",
       "\n",
       "[1 rows x 74 columns]"
      ],
      "text/html": [
       "<div>\n",
       "<style scoped>\n",
       "    .dataframe tbody tr th:only-of-type {\n",
       "        vertical-align: middle;\n",
       "    }\n",
       "\n",
       "    .dataframe tbody tr th {\n",
       "        vertical-align: top;\n",
       "    }\n",
       "\n",
       "    .dataframe thead th {\n",
       "        text-align: right;\n",
       "    }\n",
       "</style>\n",
       "<table border=\"1\" class=\"dataframe\">\n",
       "  <thead>\n",
       "    <tr style=\"text-align: right;\">\n",
       "      <th></th>\n",
       "      <th>pump</th>\n",
       "      <th>revs</th>\n",
       "      <th>rate</th>\n",
       "      <th>time</th>\n",
       "      <th>T000_F_d</th>\n",
       "      <th>T000_F_n</th>\n",
       "      <th>T000_F_x</th>\n",
       "      <th>T000_R_d</th>\n",
       "      <th>T000_R_n</th>\n",
       "      <th>T000_R_x</th>\n",
       "      <th>...</th>\n",
       "      <th>T008_R_n</th>\n",
       "      <th>T008_R_x</th>\n",
       "      <th>T008_drift</th>\n",
       "      <th>T009_F_d</th>\n",
       "      <th>T009_F_n</th>\n",
       "      <th>T009_F_x</th>\n",
       "      <th>T009_R_d</th>\n",
       "      <th>T009_R_n</th>\n",
       "      <th>T009_R_x</th>\n",
       "      <th>T009_drift</th>\n",
       "    </tr>\n",
       "  </thead>\n",
       "  <tbody>\n",
       "    <tr>\n",
       "      <th>0</th>\n",
       "      <td>X</td>\n",
       "      <td>50</td>\n",
       "      <td>100</td>\n",
       "      <td>2025-01-12T15:54:35.585991</td>\n",
       "      <td>11.3</td>\n",
       "      <td>145.644</td>\n",
       "      <td>156.944</td>\n",
       "      <td>32.556</td>\n",
       "      <td>113.088</td>\n",
       "      <td>145.644</td>\n",
       "      <td>...</td>\n",
       "      <td>105.053</td>\n",
       "      <td>137.371</td>\n",
       "      <td>-1.004</td>\n",
       "      <td>31.315</td>\n",
       "      <td>105.052</td>\n",
       "      <td>136.367</td>\n",
       "      <td>32.295</td>\n",
       "      <td>104.053</td>\n",
       "      <td>136.348</td>\n",
       "      <td>-0.999</td>\n",
       "    </tr>\n",
       "  </tbody>\n",
       "</table>\n",
       "<p>1 rows × 74 columns</p>\n",
       "</div>"
      ]
     },
     "execution_count": 17,
     "metadata": {},
     "output_type": "execute_result"
    }
   ],
   "execution_count": 17
  },
  {
   "metadata": {
    "ExecuteTime": {
     "end_time": "2025-01-12T21:38:38.950195Z",
     "start_time": "2025-01-12T21:38:38.944617Z"
    }
   },
   "cell_type": "code",
   "source": [
    "test_0 = measurements.iloc[0]\n",
    "test_0"
   ],
   "id": "320e10f0804caef5",
   "outputs": [
    {
     "data": {
      "text/plain": [
       "pump                                   X\n",
       "revs                                  50\n",
       "rate                                 100\n",
       "time          2025-01-12T15:54:35.585991\n",
       "T000_F_d                            11.3\n",
       "                         ...            \n",
       "T009_F_x                         136.367\n",
       "T009_R_d                          32.295\n",
       "T009_R_n                         104.053\n",
       "T009_R_x                         136.348\n",
       "T009_drift                        -0.999\n",
       "Name: 0, Length: 74, dtype: object"
      ]
     },
     "execution_count": 18,
     "metadata": {},
     "output_type": "execute_result"
    }
   ],
   "execution_count": 18
  },
  {
   "metadata": {
    "ExecuteTime": {
     "end_time": "2025-01-12T21:38:39.012540Z",
     "start_time": "2025-01-12T21:38:39.008024Z"
    }
   },
   "cell_type": "code",
   "source": "measurements.columns\n",
   "id": "ad1a6d0c2fc26e5f",
   "outputs": [
    {
     "data": {
      "text/plain": [
       "Index(['pump', 'revs', 'rate', 'time', 'T000_F_d', 'T000_F_n', 'T000_F_x',\n",
       "       'T000_R_d', 'T000_R_n', 'T000_R_x', 'T000_drift', 'T001_F_d',\n",
       "       'T001_F_n', 'T001_F_x', 'T001_R_d', 'T001_R_n', 'T001_R_x',\n",
       "       'T001_drift', 'T002_F_d', 'T002_F_n', 'T002_F_x', 'T002_R_d',\n",
       "       'T002_R_n', 'T002_R_x', 'T002_drift', 'T003_F_d', 'T003_F_n',\n",
       "       'T003_F_x', 'T003_R_d', 'T003_R_n', 'T003_R_x', 'T003_drift',\n",
       "       'T004_F_d', 'T004_F_n', 'T004_F_x', 'T004_R_d', 'T004_R_n', 'T004_R_x',\n",
       "       'T004_drift', 'T005_F_d', 'T005_F_n', 'T005_F_x', 'T005_R_d',\n",
       "       'T005_R_n', 'T005_R_x', 'T005_drift', 'T006_F_d', 'T006_F_n',\n",
       "       'T006_F_x', 'T006_R_d', 'T006_R_n', 'T006_R_x', 'T006_drift',\n",
       "       'T007_F_d', 'T007_F_n', 'T007_F_x', 'T007_R_d', 'T007_R_n', 'T007_R_x',\n",
       "       'T007_drift', 'T008_F_d', 'T008_F_n', 'T008_F_x', 'T008_R_d',\n",
       "       'T008_R_n', 'T008_R_x', 'T008_drift', 'T009_F_d', 'T009_F_n',\n",
       "       'T009_F_x', 'T009_R_d', 'T009_R_n', 'T009_R_x', 'T009_drift'],\n",
       "      dtype='object')"
      ]
     },
     "execution_count": 19,
     "metadata": {},
     "output_type": "execute_result"
    }
   ],
   "execution_count": 19
  },
  {
   "metadata": {
    "ExecuteTime": {
     "end_time": "2025-01-12T21:38:39.083665Z",
     "start_time": "2025-01-12T21:38:39.077320Z"
    }
   },
   "cell_type": "code",
   "source": [
    "forwards_columns = [c for c in measurements.columns if 'F_d' in c][1:]\n",
    "forwards_columns"
   ],
   "id": "9ba04647bbed4dd4",
   "outputs": [
    {
     "data": {
      "text/plain": [
       "['T001_F_d',\n",
       " 'T002_F_d',\n",
       " 'T003_F_d',\n",
       " 'T004_F_d',\n",
       " 'T005_F_d',\n",
       " 'T006_F_d',\n",
       " 'T007_F_d',\n",
       " 'T008_F_d',\n",
       " 'T009_F_d']"
      ]
     },
     "execution_count": 20,
     "metadata": {},
     "output_type": "execute_result"
    }
   ],
   "execution_count": 20
  },
  {
   "metadata": {
    "ExecuteTime": {
     "end_time": "2025-01-12T21:38:39.215968Z",
     "start_time": "2025-01-12T21:38:39.211304Z"
    }
   },
   "cell_type": "code",
   "source": [
    "reverse_columns = [c for c in measurements.columns if 'R_d' in c][1:]\n",
    "reverse_columns"
   ],
   "id": "c0f7eeb6c84475b1",
   "outputs": [
    {
     "data": {
      "text/plain": [
       "['T001_R_d',\n",
       " 'T002_R_d',\n",
       " 'T003_R_d',\n",
       " 'T004_R_d',\n",
       " 'T005_R_d',\n",
       " 'T006_R_d',\n",
       " 'T007_R_d',\n",
       " 'T008_R_d',\n",
       " 'T009_R_d']"
      ]
     },
     "execution_count": 21,
     "metadata": {},
     "output_type": "execute_result"
    }
   ],
   "execution_count": 21
  },
  {
   "metadata": {
    "ExecuteTime": {
     "end_time": "2025-01-12T21:38:39.357553Z",
     "start_time": "2025-01-12T21:38:39.345836Z"
    }
   },
   "cell_type": "code",
   "source": "measurements[forwards_columns] #.mean(axis='columns')",
   "id": "2bd70a2552b583c7",
   "outputs": [
    {
     "data": {
      "text/plain": [
       "   T001_F_d  T002_F_d  T003_F_d  T004_F_d  T005_F_d  T006_F_d  T007_F_d  \\\n",
       "0      31.4    31.388    31.406     0.001    31.372    31.358    31.348   \n",
       "\n",
       "   T008_F_d  T009_F_d  \n",
       "0    31.333    31.315  "
      ],
      "text/html": [
       "<div>\n",
       "<style scoped>\n",
       "    .dataframe tbody tr th:only-of-type {\n",
       "        vertical-align: middle;\n",
       "    }\n",
       "\n",
       "    .dataframe tbody tr th {\n",
       "        vertical-align: top;\n",
       "    }\n",
       "\n",
       "    .dataframe thead th {\n",
       "        text-align: right;\n",
       "    }\n",
       "</style>\n",
       "<table border=\"1\" class=\"dataframe\">\n",
       "  <thead>\n",
       "    <tr style=\"text-align: right;\">\n",
       "      <th></th>\n",
       "      <th>T001_F_d</th>\n",
       "      <th>T002_F_d</th>\n",
       "      <th>T003_F_d</th>\n",
       "      <th>T004_F_d</th>\n",
       "      <th>T005_F_d</th>\n",
       "      <th>T006_F_d</th>\n",
       "      <th>T007_F_d</th>\n",
       "      <th>T008_F_d</th>\n",
       "      <th>T009_F_d</th>\n",
       "    </tr>\n",
       "  </thead>\n",
       "  <tbody>\n",
       "    <tr>\n",
       "      <th>0</th>\n",
       "      <td>31.4</td>\n",
       "      <td>31.388</td>\n",
       "      <td>31.406</td>\n",
       "      <td>0.001</td>\n",
       "      <td>31.372</td>\n",
       "      <td>31.358</td>\n",
       "      <td>31.348</td>\n",
       "      <td>31.333</td>\n",
       "      <td>31.315</td>\n",
       "    </tr>\n",
       "  </tbody>\n",
       "</table>\n",
       "</div>"
      ]
     },
     "execution_count": 22,
     "metadata": {},
     "output_type": "execute_result"
    }
   ],
   "execution_count": 22
  },
  {
   "metadata": {
    "ExecuteTime": {
     "end_time": "2025-01-12T21:38:39.468426Z",
     "start_time": "2025-01-12T21:38:39.457220Z"
    }
   },
   "cell_type": "code",
   "source": "measurements[reverse_columns]",
   "id": "a5f89f663fafdf90",
   "outputs": [
    {
     "data": {
      "text/plain": [
       "   T001_R_d  T002_R_d  T003_R_d  T004_R_d  T005_R_d  T006_R_d  T007_R_d  \\\n",
       "0    32.379    32.386    32.401    32.368    32.356    32.341    32.323   \n",
       "\n",
       "   T008_R_d  T009_R_d  \n",
       "0    32.318    32.295  "
      ],
      "text/html": [
       "<div>\n",
       "<style scoped>\n",
       "    .dataframe tbody tr th:only-of-type {\n",
       "        vertical-align: middle;\n",
       "    }\n",
       "\n",
       "    .dataframe tbody tr th {\n",
       "        vertical-align: top;\n",
       "    }\n",
       "\n",
       "    .dataframe thead th {\n",
       "        text-align: right;\n",
       "    }\n",
       "</style>\n",
       "<table border=\"1\" class=\"dataframe\">\n",
       "  <thead>\n",
       "    <tr style=\"text-align: right;\">\n",
       "      <th></th>\n",
       "      <th>T001_R_d</th>\n",
       "      <th>T002_R_d</th>\n",
       "      <th>T003_R_d</th>\n",
       "      <th>T004_R_d</th>\n",
       "      <th>T005_R_d</th>\n",
       "      <th>T006_R_d</th>\n",
       "      <th>T007_R_d</th>\n",
       "      <th>T008_R_d</th>\n",
       "      <th>T009_R_d</th>\n",
       "    </tr>\n",
       "  </thead>\n",
       "  <tbody>\n",
       "    <tr>\n",
       "      <th>0</th>\n",
       "      <td>32.379</td>\n",
       "      <td>32.386</td>\n",
       "      <td>32.401</td>\n",
       "      <td>32.368</td>\n",
       "      <td>32.356</td>\n",
       "      <td>32.341</td>\n",
       "      <td>32.323</td>\n",
       "      <td>32.318</td>\n",
       "      <td>32.295</td>\n",
       "    </tr>\n",
       "  </tbody>\n",
       "</table>\n",
       "</div>"
      ]
     },
     "execution_count": 23,
     "metadata": {},
     "output_type": "execute_result"
    }
   ],
   "execution_count": 23
  },
  {
   "metadata": {
    "ExecuteTime": {
     "end_time": "2025-01-12T21:38:39.551713Z",
     "start_time": "2025-01-12T21:38:39.540358Z"
    }
   },
   "cell_type": "code",
   "source": [
    "for name, columns in [('forwards', forwards_columns), ('reverse', reverse_columns)]:\n",
    "    for c in columns:\n",
    "        for r in [r for r in measurements.index if measurements.loc[r, c] < 0.02]:\n",
    "            measurements.loc[r, c] = pd.NA\n",
    "    measurements[f'{name}_mean'] = measurements[columns].mean(axis='columns', skipna=True)\n",
    "    measurements[f'{name}_std'] = measurements[columns].std(axis='columns', skipna=True, ddof=0)\n",
    "    measurements[f'{name}_CoV'] = measurements[f'{name}_std'] / measurements[f'{name}_mean']"
   ],
   "id": "6bdff4854b2092ab",
   "outputs": [],
   "execution_count": 24
  },
  {
   "metadata": {
    "ExecuteTime": {
     "end_time": "2025-01-12T21:38:39.604562Z",
     "start_time": "2025-01-12T21:38:39.592071Z"
    }
   },
   "cell_type": "code",
   "source": [
    "measurements.drop([c for c in measurements.columns if 'T0' in c], axis='columns', inplace=True)\n",
    "measurements"
   ],
   "id": "fe3b343b81d8162e",
   "outputs": [
    {
     "data": {
      "text/plain": [
       "  pump  revs  rate                        time  forwards_mean  forwards_std  \\\n",
       "0    X    50   100  2025-01-12T15:54:35.585991         31.365      0.030303   \n",
       "\n",
       "   forwards_CoV  reverse_mean  reverse_std  reverse_CoV  \n",
       "0      0.000966     32.351889     0.033208     0.001026  "
      ],
      "text/html": [
       "<div>\n",
       "<style scoped>\n",
       "    .dataframe tbody tr th:only-of-type {\n",
       "        vertical-align: middle;\n",
       "    }\n",
       "\n",
       "    .dataframe tbody tr th {\n",
       "        vertical-align: top;\n",
       "    }\n",
       "\n",
       "    .dataframe thead th {\n",
       "        text-align: right;\n",
       "    }\n",
       "</style>\n",
       "<table border=\"1\" class=\"dataframe\">\n",
       "  <thead>\n",
       "    <tr style=\"text-align: right;\">\n",
       "      <th></th>\n",
       "      <th>pump</th>\n",
       "      <th>revs</th>\n",
       "      <th>rate</th>\n",
       "      <th>time</th>\n",
       "      <th>forwards_mean</th>\n",
       "      <th>forwards_std</th>\n",
       "      <th>forwards_CoV</th>\n",
       "      <th>reverse_mean</th>\n",
       "      <th>reverse_std</th>\n",
       "      <th>reverse_CoV</th>\n",
       "    </tr>\n",
       "  </thead>\n",
       "  <tbody>\n",
       "    <tr>\n",
       "      <th>0</th>\n",
       "      <td>X</td>\n",
       "      <td>50</td>\n",
       "      <td>100</td>\n",
       "      <td>2025-01-12T15:54:35.585991</td>\n",
       "      <td>31.365</td>\n",
       "      <td>0.030303</td>\n",
       "      <td>0.000966</td>\n",
       "      <td>32.351889</td>\n",
       "      <td>0.033208</td>\n",
       "      <td>0.001026</td>\n",
       "    </tr>\n",
       "  </tbody>\n",
       "</table>\n",
       "</div>"
      ]
     },
     "execution_count": 25,
     "metadata": {},
     "output_type": "execute_result"
    }
   ],
   "execution_count": 25
  },
  {
   "metadata": {
    "ExecuteTime": {
     "end_time": "2025-01-12T21:38:39.696934Z",
     "start_time": "2025-01-12T21:38:39.694470Z"
    }
   },
   "cell_type": "code",
   "source": "    ",
   "id": "730a43761bd189c9",
   "outputs": [],
   "execution_count": null
  }
 ],
 "metadata": {
  "kernelspec": {
   "display_name": "Python 3",
   "language": "python",
   "name": "python3"
  },
  "language_info": {
   "codemirror_mode": {
    "name": "ipython",
    "version": 2
   },
   "file_extension": ".py",
   "mimetype": "text/x-python",
   "name": "python",
   "nbconvert_exporter": "python",
   "pygments_lexer": "ipython2",
   "version": "2.7.6"
  }
 },
 "nbformat": 4,
 "nbformat_minor": 5
}
